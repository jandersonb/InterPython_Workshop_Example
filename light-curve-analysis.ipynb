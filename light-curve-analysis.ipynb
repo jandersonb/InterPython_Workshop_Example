{
 "cells": [
  {
   "cell_type": "markdown",
   "id": "d9b76051-958e-4103-9b98-a05778d340d1",
   "metadata": {},
   "source": [
    "Inspect the sizes and visualise the light curves from the Kepler and LSST RR Lyrae datasets."
   ]
  },
  {
   "cell_type": "markdown",
   "id": "a71e8780-022a-4bd3-901c-5ccdf75bc929",
   "metadata": {},
   "source": [
    "# Import libraries"
   ]
  },
  {
   "cell_type": "code",
   "execution_count": 26,
   "id": "30e4e043-f1a3-4773-aa2f-24f5f049dfe0",
   "metadata": {},
   "outputs": [],
   "source": [
    "import os\n",
    "import pandas as pd\n",
    "from lcanalyzer import views"
   ]
  },
  {
   "cell_type": "markdown",
   "id": "9e85c2b5-4438-48fd-9927-af9d2ebf4eb5",
   "metadata": {},
   "source": [
    "# Parameters\n",
    "Define labels, colours, and markers to use for each filter when plotting."
   ]
  },
  {
   "cell_type": "code",
   "execution_count": 27,
   "id": "57b39267-eb07-4e43-a1b8-953b68e394d9",
   "metadata": {},
   "outputs": [],
   "source": [
    "plot_filter_labels = [\"u\", \"g\", \"r\", \"i\", \"z\", \"y\"]\n",
    "plot_filter_colors = {\n",
    "    \"u\": \"#56b4e9\",\n",
    "    \"g\": \"#008060\",\n",
    "    \"r\": \"#ff4000\",\n",
    "    \"i\": \"#850000\",\n",
    "    \"z\": \"#6600cc\",\n",
    "    \"y\": \"#000000\",\n",
    "}\n",
    "plot_filter_symbols = {\"u\": \"o\", \"g\": \"^\", \"r\": \"v\", \"i\": \"s\", \"z\": \"*\", \"y\": \"p\"}"
   ]
  },
  {
   "cell_type": "markdown",
   "id": "01f08b64-6d72-402b-b586-8bd0b148bd6d",
   "metadata": {},
   "source": [
    "# Load data"
   ]
  },
  {
   "cell_type": "code",
   "execution_count": 28,
   "id": "73cfb12f-d7e8-4091-88b4-6730fc20bf46",
   "metadata": {},
   "outputs": [
    {
     "data": {
      "text/plain": [
       "['kepler_RRLyr.csv', 'lsst_RRLyr.pkl', 'lsst_RRLyr_protocol_4.pkl']"
      ]
     },
     "execution_count": 28,
     "metadata": {},
     "output_type": "execute_result"
    }
   ],
   "source": [
    "os.listdir(\"data\")"
   ]
  },
  {
   "cell_type": "code",
   "execution_count": 29,
   "id": "9b5eb5c7-a616-4bc9-a157-da6c588422a0",
   "metadata": {},
   "outputs": [],
   "source": [
    "lc_datasets = {}\n",
    "lc_datasets[\"lsst\"] = pd.read_pickle(os.path.join(\"data\", \"lsst_RRLyr.pkl\"))\n",
    "lc_datasets[\"kepler\"] = pd.read_csv(os.path.join(\"data\", \"kepler_RRLyr.csv\"))"
   ]
  },
  {
   "cell_type": "markdown",
   "id": "dac2a6e1-552b-4b3f-93df-30e159463f8e",
   "metadata": {},
   "source": [
    "# Inspect datasets"
   ]
  },
  {
   "cell_type": "code",
   "execution_count": 30,
   "id": "a00a7ccb-3c96-4696-94c5-e93862aeb12e",
   "metadata": {},
   "outputs": [
    {
     "data": {
      "text/html": [
       "<div>\n",
       "<style scoped>\n",
       "    .dataframe tbody tr th:only-of-type {\n",
       "        vertical-align: middle;\n",
       "    }\n",
       "\n",
       "    .dataframe tbody tr th {\n",
       "        vertical-align: top;\n",
       "    }\n",
       "\n",
       "    .dataframe thead th {\n",
       "        text-align: right;\n",
       "    }\n",
       "</style>\n",
       "<table border=\"1\" class=\"dataframe\">\n",
       "  <thead>\n",
       "    <tr style=\"text-align: right;\">\n",
       "      <th></th>\n",
       "      <th>band</th>\n",
       "      <th>ccdVisitId</th>\n",
       "      <th>coord_ra</th>\n",
       "      <th>coord_dec</th>\n",
       "      <th>objectId</th>\n",
       "      <th>psfFlux</th>\n",
       "      <th>psfFluxErr</th>\n",
       "      <th>psfMag</th>\n",
       "      <th>ccdVisitId2</th>\n",
       "      <th>band2</th>\n",
       "      <th>expMidptMJD</th>\n",
       "      <th>zeroPoint</th>\n",
       "    </tr>\n",
       "  </thead>\n",
       "  <tbody>\n",
       "    <tr>\n",
       "      <th>0</th>\n",
       "      <td>y</td>\n",
       "      <td>1032263018</td>\n",
       "      <td>62.462569</td>\n",
       "      <td>-44.11336</td>\n",
       "      <td>1251384969897480052</td>\n",
       "      <td>-515.183603</td>\n",
       "      <td>1697.218490</td>\n",
       "      <td>NaN</td>\n",
       "      <td>1032263018</td>\n",
       "      <td>y</td>\n",
       "      <td>61100.069706</td>\n",
       "      <td>30.602301</td>\n",
       "    </tr>\n",
       "    <tr>\n",
       "      <th>1</th>\n",
       "      <td>y</td>\n",
       "      <td>1033987172</td>\n",
       "      <td>62.462569</td>\n",
       "      <td>-44.11336</td>\n",
       "      <td>1251384969897480052</td>\n",
       "      <td>3151.738459</td>\n",
       "      <td>1686.955775</td>\n",
       "      <td>22.653625</td>\n",
       "      <td>1033987172</td>\n",
       "      <td>y</td>\n",
       "      <td>61102.068464</td>\n",
       "      <td>30.606100</td>\n",
       "    </tr>\n",
       "    <tr>\n",
       "      <th>2</th>\n",
       "      <td>u</td>\n",
       "      <td>675163080</td>\n",
       "      <td>62.462569</td>\n",
       "      <td>-44.11336</td>\n",
       "      <td>1251384969897480052</td>\n",
       "      <td>183.449123</td>\n",
       "      <td>209.242045</td>\n",
       "      <td>25.741211</td>\n",
       "      <td>675163080</td>\n",
       "      <td>u</td>\n",
       "      <td>60582.247144</td>\n",
       "      <td>30.469101</td>\n",
       "    </tr>\n",
       "    <tr>\n",
       "      <th>3</th>\n",
       "      <td>y</td>\n",
       "      <td>443055067</td>\n",
       "      <td>62.462569</td>\n",
       "      <td>-44.11336</td>\n",
       "      <td>1251384969897480052</td>\n",
       "      <td>-704.848327</td>\n",
       "      <td>1624.400086</td>\n",
       "      <td>NaN</td>\n",
       "      <td>443055067</td>\n",
       "      <td>y</td>\n",
       "      <td>60215.203585</td>\n",
       "      <td>30.612801</td>\n",
       "    </tr>\n",
       "    <tr>\n",
       "      <th>4</th>\n",
       "      <td>u</td>\n",
       "      <td>466722002</td>\n",
       "      <td>62.462569</td>\n",
       "      <td>-44.11336</td>\n",
       "      <td>1251384969897480052</td>\n",
       "      <td>382.472233</td>\n",
       "      <td>278.926670</td>\n",
       "      <td>24.943500</td>\n",
       "      <td>466722002</td>\n",
       "      <td>u</td>\n",
       "      <td>60261.078221</td>\n",
       "      <td>30.461201</td>\n",
       "    </tr>\n",
       "  </tbody>\n",
       "</table>\n",
       "</div>"
      ],
      "text/plain": [
       "  band  ccdVisitId   coord_ra  coord_dec             objectId      psfFlux  \\\n",
       "0    y  1032263018  62.462569  -44.11336  1251384969897480052  -515.183603   \n",
       "1    y  1033987172  62.462569  -44.11336  1251384969897480052  3151.738459   \n",
       "2    u   675163080  62.462569  -44.11336  1251384969897480052   183.449123   \n",
       "3    y   443055067  62.462569  -44.11336  1251384969897480052  -704.848327   \n",
       "4    u   466722002  62.462569  -44.11336  1251384969897480052   382.472233   \n",
       "\n",
       "    psfFluxErr     psfMag  ccdVisitId2 band2   expMidptMJD  zeroPoint  \n",
       "0  1697.218490        NaN   1032263018     y  61100.069706  30.602301  \n",
       "1  1686.955775  22.653625   1033987172     y  61102.068464  30.606100  \n",
       "2   209.242045  25.741211    675163080     u  60582.247144  30.469101  \n",
       "3  1624.400086        NaN    443055067     y  60215.203585  30.612801  \n",
       "4   278.926670  24.943500    466722002     u  60261.078221  30.461201  "
      ]
     },
     "execution_count": 30,
     "metadata": {},
     "output_type": "execute_result"
    }
   ],
   "source": [
    "lc_datasets[\"lsst\"].head()"
   ]
  },
  {
   "cell_type": "code",
   "execution_count": 31,
   "id": "c92d2ea9-afef-45eb-b995-157acced78a1",
   "metadata": {},
   "outputs": [
    {
     "data": {
      "text/html": [
       "<div>\n",
       "<style scoped>\n",
       "    .dataframe tbody tr th:only-of-type {\n",
       "        vertical-align: middle;\n",
       "    }\n",
       "\n",
       "    .dataframe tbody tr th {\n",
       "        vertical-align: top;\n",
       "    }\n",
       "\n",
       "    .dataframe thead th {\n",
       "        text-align: right;\n",
       "    }\n",
       "</style>\n",
       "<table border=\"1\" class=\"dataframe\">\n",
       "  <thead>\n",
       "    <tr style=\"text-align: right;\">\n",
       "      <th></th>\n",
       "      <th>time</th>\n",
       "      <th>flux</th>\n",
       "      <th>flux_err</th>\n",
       "      <th>quality</th>\n",
       "      <th>timecorr</th>\n",
       "      <th>centroid_col</th>\n",
       "      <th>centroid_row</th>\n",
       "      <th>cadenceno</th>\n",
       "      <th>sap_flux</th>\n",
       "      <th>sap_flux_err</th>\n",
       "      <th>...</th>\n",
       "      <th>psf_centr1</th>\n",
       "      <th>psf_centr1_err</th>\n",
       "      <th>psf_centr2</th>\n",
       "      <th>psf_centr2_err</th>\n",
       "      <th>mom_centr1</th>\n",
       "      <th>mom_centr1_err</th>\n",
       "      <th>mom_centr2</th>\n",
       "      <th>mom_centr2_err</th>\n",
       "      <th>pos_corr1</th>\n",
       "      <th>pos_corr2</th>\n",
       "    </tr>\n",
       "  </thead>\n",
       "  <tbody>\n",
       "    <tr>\n",
       "      <th>0</th>\n",
       "      <td>131.512404</td>\n",
       "      <td>10180609.0</td>\n",
       "      <td>78.926155</td>\n",
       "      <td>128</td>\n",
       "      <td>0.001410</td>\n",
       "      <td>653.372470</td>\n",
       "      <td>51.053028</td>\n",
       "      <td>1105</td>\n",
       "      <td>10129629.0</td>\n",
       "      <td>79.186980</td>\n",
       "      <td>...</td>\n",
       "      <td>NaN</td>\n",
       "      <td>NaN</td>\n",
       "      <td>NaN</td>\n",
       "      <td>NaN</td>\n",
       "      <td>653.372470</td>\n",
       "      <td>0.000006</td>\n",
       "      <td>51.053028</td>\n",
       "      <td>0.000063</td>\n",
       "      <td>0.011782</td>\n",
       "      <td>-0.010195</td>\n",
       "    </tr>\n",
       "    <tr>\n",
       "      <th>1</th>\n",
       "      <td>131.532839</td>\n",
       "      <td>10013518.0</td>\n",
       "      <td>78.233770</td>\n",
       "      <td>128</td>\n",
       "      <td>0.001411</td>\n",
       "      <td>653.372292</td>\n",
       "      <td>51.053872</td>\n",
       "      <td>1106</td>\n",
       "      <td>9949931.0</td>\n",
       "      <td>78.459984</td>\n",
       "      <td>...</td>\n",
       "      <td>NaN</td>\n",
       "      <td>NaN</td>\n",
       "      <td>NaN</td>\n",
       "      <td>NaN</td>\n",
       "      <td>653.372292</td>\n",
       "      <td>0.000006</td>\n",
       "      <td>51.053872</td>\n",
       "      <td>0.000062</td>\n",
       "      <td>0.011726</td>\n",
       "      <td>-0.010246</td>\n",
       "    </tr>\n",
       "    <tr>\n",
       "      <th>2</th>\n",
       "      <td>131.553273</td>\n",
       "      <td>9852474.0</td>\n",
       "      <td>77.673160</td>\n",
       "      <td>128</td>\n",
       "      <td>0.001412</td>\n",
       "      <td>653.372167</td>\n",
       "      <td>51.044559</td>\n",
       "      <td>1107</td>\n",
       "      <td>9783633.0</td>\n",
       "      <td>77.827200</td>\n",
       "      <td>...</td>\n",
       "      <td>NaN</td>\n",
       "      <td>NaN</td>\n",
       "      <td>NaN</td>\n",
       "      <td>NaN</td>\n",
       "      <td>653.372167</td>\n",
       "      <td>0.000006</td>\n",
       "      <td>51.044559</td>\n",
       "      <td>0.000062</td>\n",
       "      <td>0.011575</td>\n",
       "      <td>-0.010089</td>\n",
       "    </tr>\n",
       "    <tr>\n",
       "      <th>3</th>\n",
       "      <td>131.573707</td>\n",
       "      <td>9722936.0</td>\n",
       "      <td>77.109710</td>\n",
       "      <td>128</td>\n",
       "      <td>0.001413</td>\n",
       "      <td>653.371408</td>\n",
       "      <td>51.045081</td>\n",
       "      <td>1108</td>\n",
       "      <td>9651452.0</td>\n",
       "      <td>77.313590</td>\n",
       "      <td>...</td>\n",
       "      <td>NaN</td>\n",
       "      <td>NaN</td>\n",
       "      <td>NaN</td>\n",
       "      <td>NaN</td>\n",
       "      <td>653.371408</td>\n",
       "      <td>0.000006</td>\n",
       "      <td>51.045081</td>\n",
       "      <td>0.000062</td>\n",
       "      <td>0.011366</td>\n",
       "      <td>-0.009939</td>\n",
       "    </tr>\n",
       "    <tr>\n",
       "      <th>4</th>\n",
       "      <td>131.594142</td>\n",
       "      <td>9717073.0</td>\n",
       "      <td>77.103550</td>\n",
       "      <td>0</td>\n",
       "      <td>0.001414</td>\n",
       "      <td>653.372167</td>\n",
       "      <td>51.052828</td>\n",
       "      <td>1109</td>\n",
       "      <td>9646289.0</td>\n",
       "      <td>77.262634</td>\n",
       "      <td>...</td>\n",
       "      <td>NaN</td>\n",
       "      <td>NaN</td>\n",
       "      <td>NaN</td>\n",
       "      <td>NaN</td>\n",
       "      <td>653.372167</td>\n",
       "      <td>0.000006</td>\n",
       "      <td>51.052828</td>\n",
       "      <td>0.000062</td>\n",
       "      <td>0.011526</td>\n",
       "      <td>-0.010702</td>\n",
       "    </tr>\n",
       "  </tbody>\n",
       "</table>\n",
       "<p>5 rows × 25 columns</p>\n",
       "</div>"
      ],
      "text/plain": [
       "         time        flux   flux_err  quality  timecorr  centroid_col  \\\n",
       "0  131.512404  10180609.0  78.926155      128  0.001410    653.372470   \n",
       "1  131.532839  10013518.0  78.233770      128  0.001411    653.372292   \n",
       "2  131.553273   9852474.0  77.673160      128  0.001412    653.372167   \n",
       "3  131.573707   9722936.0  77.109710      128  0.001413    653.371408   \n",
       "4  131.594142   9717073.0  77.103550        0  0.001414    653.372167   \n",
       "\n",
       "   centroid_row  cadenceno    sap_flux  sap_flux_err  ...  psf_centr1  \\\n",
       "0     51.053028       1105  10129629.0     79.186980  ...         NaN   \n",
       "1     51.053872       1106   9949931.0     78.459984  ...         NaN   \n",
       "2     51.044559       1107   9783633.0     77.827200  ...         NaN   \n",
       "3     51.045081       1108   9651452.0     77.313590  ...         NaN   \n",
       "4     51.052828       1109   9646289.0     77.262634  ...         NaN   \n",
       "\n",
       "   psf_centr1_err  psf_centr2  psf_centr2_err  mom_centr1  mom_centr1_err  \\\n",
       "0             NaN         NaN             NaN  653.372470        0.000006   \n",
       "1             NaN         NaN             NaN  653.372292        0.000006   \n",
       "2             NaN         NaN             NaN  653.372167        0.000006   \n",
       "3             NaN         NaN             NaN  653.371408        0.000006   \n",
       "4             NaN         NaN             NaN  653.372167        0.000006   \n",
       "\n",
       "   mom_centr2  mom_centr2_err  pos_corr1  pos_corr2  \n",
       "0   51.053028        0.000063   0.011782  -0.010195  \n",
       "1   51.053872        0.000062   0.011726  -0.010246  \n",
       "2   51.044559        0.000062   0.011575  -0.010089  \n",
       "3   51.045081        0.000062   0.011366  -0.009939  \n",
       "4   51.052828        0.000062   0.011526  -0.010702  \n",
       "\n",
       "[5 rows x 25 columns]"
      ]
     },
     "execution_count": 31,
     "metadata": {},
     "output_type": "execute_result"
    }
   ],
   "source": [
    "lc_datasets[\"kepler\"].head()"
   ]
  },
  {
   "cell_type": "markdown",
   "id": "48132a41-ce0a-4ccc-bc7f-cd27aaa0d8b5",
   "metadata": {},
   "source": [
    "# Visualisation"
   ]
  },
  {
   "cell_type": "code",
   "execution_count": 32,
   "id": "d858d326-84ee-4d9e-bc26-f3ebc345ca50",
   "metadata": {},
   "outputs": [],
   "source": [
    "lc = lc_datasets[\"lsst\"][\"objectId\"].unique()[7]\n",
    "lc = lc_datasets[\"lsst\"][lc_datasets[\"lsst\"][\"objectId\"] == lc]"
   ]
  },
  {
   "cell_type": "code",
   "execution_count": 33,
   "id": "7420df38-3a80-47fd-bf59-5463cc4ce962",
   "metadata": {},
   "outputs": [],
   "source": [
    "bands = {}\n",
    "for b in plot_filter_labels:\n",
    "    bands[b] = lc[\"band\"] == b"
   ]
  },
  {
   "cell_type": "code",
   "execution_count": 34,
   "id": "2da8ce06-5747-4a12-8542-c384d4097891",
   "metadata": {},
   "outputs": [],
   "source": [
    "band = \"z\""
   ]
  },
  {
   "cell_type": "code",
   "execution_count": 35,
   "id": "f863da29-2755-442c-a4ba-addebd3cc26c",
   "metadata": {},
   "outputs": [
    {
     "data": {
      "image/png": "[encoded data removed]",
      "text/plain": [
       "<Figure size 700x500 with 1 Axes>"
      ]
     },
     "metadata": {},
     "output_type": "display_data"
    }
   ],
   "source": [
    "views.plotUnfolded(\n",
    "    lc[bands[band]],\n",
    "    time_col=\"expMidptMJD\",\n",
    "    mag_col=\"psfMag\",\n",
    "    color=plot_filter_colors[b],\n",
    "    marker=plot_filter_symbols[b],\n",
    ")"
   ]
  }
 ],
 "metadata": {
  "kernelspec": {
   "display_name": "Python 3 (ipykernel)",
   "language": "python",
   "name": "python3"
  },
  "language_info": {
   "codemirror_mode": {
    "name": "ipython",
    "version": 3
   },
   "file_extension": ".py",
   "mimetype": "text/x-python",
   "name": "python",
   "nbconvert_exporter": "python",
   "pygments_lexer": "ipython3",
   "version": "3.11.8"
  }
 },
 "nbformat": 4,
 "nbformat_minor": 5
}
